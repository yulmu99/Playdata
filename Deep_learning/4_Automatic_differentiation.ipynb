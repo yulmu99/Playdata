{
  "nbformat": 4,
  "nbformat_minor": 0,
  "metadata": {
    "colab": {
      "provenance": [],
      "authorship_tag": "ABX9TyMvM/a8GDUG1uczjwCMbB4C",
      "include_colab_link": true
    },
    "kernelspec": {
      "name": "python3",
      "display_name": "Python 3"
    },
    "language_info": {
      "name": "python"
    }
  },
  "cells": [
    {
      "cell_type": "markdown",
      "metadata": {
        "id": "view-in-github",
        "colab_type": "text"
      },
      "source": [
        "<a href=\"https://colab.research.google.com/github/yulmu99/Playdata/blob/main/Deep_learning/4_Automatic_differentiation.ipynb\" target=\"_parent\"><img src=\"https://colab.research.google.com/assets/colab-badge.svg\" alt=\"Open In Colab\"/></a>"
      ]
    },
    {
      "cell_type": "markdown",
      "source": [
        "# torch.autograd\n",
        "> 신경망 학습을 지원하는 pytorch의 자동 미분 엔진"
      ],
      "metadata": {
        "id": "CFPXviai0x5W"
      }
    },
    {
      "cell_type": "markdown",
      "source": [
        "## Forward Propagation(순전파)\n",
        "> 입력 데이터를 각 함수들에서 실행하여 target 정보를 추측"
      ],
      "metadata": {
        "id": "VPRalrub09_N"
      }
    },
    {
      "cell_type": "markdown",
      "source": [
        "## Backward Propagation(역전파)\n",
        "> 추측한 값에서 발생한 오류에 비례하여 매개변수를 조절"
      ],
      "metadata": {
        "id": "VZbKFbzv1U3M"
      }
    },
    {
      "cell_type": "markdown",
      "source": [
        "# Tensors,Functions and Computational gragh"
      ],
      "metadata": {
        "id": "Frjw0vFW1gM9"
      }
    },
    {
      "cell_type": "code",
      "source": [
        "%matplotlib inline\n",
        "import torch\n",
        "\n",
        "x = torch.ones(5)   #input = 1\n",
        "y = torch.zeros(3)  #expected output = 0\n",
        "\n",
        "w = torch.randn(5,3, requires_grad=True)  #True : 학습할 때 forward(), backward() 반복 \n",
        "                                          #False : 실제 예측할 때 업데이트를 하지 않고 예측만\n",
        "b = torch.randn(3, requires_grad =True)\n",
        "\n",
        "z = torch.matmul(x,w) + b \n",
        "\n",
        "loss = torch.nn.functional.binary_cross_entropy_with_logits(z,y)\n",
        "loss"
      ],
      "metadata": {
        "colab": {
          "base_uri": "https://localhost:8080/"
        },
        "id": "SYKKxN3y0xhd",
        "outputId": "23408750-7ef5-4a94-a6e5-514d30e55a4d"
      },
      "execution_count": null,
      "outputs": [
        {
          "output_type": "execute_result",
          "data": {
            "text/plain": [
              "tensor(3.5219, grad_fn=<BinaryCrossEntropyWithLogitsBackward0>)"
            ]
          },
          "metadata": {},
          "execution_count": 1
        }
      ]
    },
    {
      "cell_type": "code",
      "source": [
        "print('Grandient function for z =', z.grad_fn)  #z에 대한 gradient descent(경사하강법)\n",
        "print('Gradient function for loss =', loss.grad_fn) "
      ],
      "metadata": {
        "colab": {
          "base_uri": "https://localhost:8080/"
        },
        "id": "F_inABzp3FbB",
        "outputId": "d60b46a9-16a2-40b6-a316-1b13e13b3c20"
      },
      "execution_count": null,
      "outputs": [
        {
          "output_type": "stream",
          "name": "stdout",
          "text": [
            "Grandient function for z = <AddBackward0 object at 0x7fce24dc67f0>\n",
            "Gradient function for loss = <BinaryCrossEntropyWithLogitsBackward0 object at 0x7fce24dc6ac0>\n"
          ]
        }
      ]
    },
    {
      "cell_type": "markdown",
      "source": [
        "# Computing gradients\n",
        "> backward를 통해서 w,b를 계산하고 업데이트"
      ],
      "metadata": {
        "id": "zWN2ZBLf4BKO"
      }
    },
    {
      "cell_type": "code",
      "execution_count": null,
      "metadata": {
        "colab": {
          "base_uri": "https://localhost:8080/"
        },
        "id": "2KFJW2Ks0YQW",
        "outputId": "42acb916-5b44-496d-85e5-466a975205b9"
      },
      "outputs": [
        {
          "output_type": "stream",
          "name": "stdout",
          "text": [
            "tensor([[0.3194, 0.3273, 0.3220],\n",
            "        [0.3194, 0.3273, 0.3220],\n",
            "        [0.3194, 0.3273, 0.3220],\n",
            "        [0.3194, 0.3273, 0.3220],\n",
            "        [0.3194, 0.3273, 0.3220]])\n",
            "tensor([0.3194, 0.3273, 0.3220])\n"
          ]
        }
      ],
      "source": [
        "loss.backward()  \n",
        "print(w.grad)\n",
        "print(b.grad)"
      ]
    },
    {
      "cell_type": "markdown",
      "source": [
        "# Disabling gradient tracking"
      ],
      "metadata": {
        "id": "TUwpffWP4ixd"
      }
    },
    {
      "cell_type": "code",
      "source": [
        "z = torch.matmul(x,w) + b\n",
        "print(z.requires_grad)      #train"
      ],
      "metadata": {
        "colab": {
          "base_uri": "https://localhost:8080/"
        },
        "id": "KHBFWy8a4RZx",
        "outputId": "26dc2df5-e75d-41b2-fd13-9b22c098c136"
      },
      "execution_count": null,
      "outputs": [
        {
          "output_type": "stream",
          "name": "stdout",
          "text": [
            "True\n"
          ]
        }
      ]
    },
    {
      "cell_type": "markdown",
      "source": [
        "- No gradient tracking(테스트용) \n",
        "> test data는 backward가 이루어지면 안된다<br>"
      ],
      "metadata": {
        "id": "gX5E-r0H5ZA2"
      }
    },
    {
      "cell_type": "code",
      "source": [
        "#torh.no_grad()\n",
        "\n",
        "with torch.no_grad():       \n",
        "  z = torch.matmul(x,w) + b\n",
        "print(z.requires_grad)"
      ],
      "metadata": {
        "colab": {
          "base_uri": "https://localhost:8080/"
        },
        "id": "gIoDCxIm42Gc",
        "outputId": "4abe596f-c53a-4c9a-ac8b-c6a57645a133"
      },
      "execution_count": null,
      "outputs": [
        {
          "output_type": "stream",
          "name": "stdout",
          "text": [
            "False\n"
          ]
        }
      ]
    },
    {
      "cell_type": "code",
      "source": [
        "#detach()\n",
        "\n",
        "z = torch.matmul(x,w) + b\n",
        "z_det = z.detach()\n",
        "print(z_det.requires_grad)"
      ],
      "metadata": {
        "colab": {
          "base_uri": "https://localhost:8080/"
        },
        "id": "nmR44HCz54dd",
        "outputId": "44222ac8-7553-4667-af54-878ad25b36e1"
      },
      "execution_count": null,
      "outputs": [
        {
          "output_type": "stream",
          "name": "stdout",
          "text": [
            "False\n"
          ]
        }
      ]
    },
    {
      "cell_type": "code",
      "source": [],
      "metadata": {
        "id": "0YcUMuM06Nwc"
      },
      "execution_count": null,
      "outputs": []
    }
  ]
}
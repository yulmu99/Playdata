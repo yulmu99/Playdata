{
  "nbformat": 4,
  "nbformat_minor": 0,
  "metadata": {
    "colab": {
      "provenance": [],
      "authorship_tag": "ABX9TyOqbfu72X9YxIPxbgABuJaP",
      "include_colab_link": true
    },
    "kernelspec": {
      "name": "python3",
      "display_name": "Python 3"
    },
    "language_info": {
      "name": "python"
    },
    "accelerator": "GPU",
    "gpuClass": "standard"
  },
  "cells": [
    {
      "cell_type": "markdown",
      "metadata": {
        "id": "view-in-github",
        "colab_type": "text"
      },
      "source": [
        "<a href=\"https://colab.research.google.com/github/yulmu99/Playdata/blob/main/Deep_learning/1_Tensor.ipynb\" target=\"_parent\"><img src=\"https://colab.research.google.com/assets/colab-badge.svg\" alt=\"Open In Colab\"/></a>"
      ]
    },
    {
      "cell_type": "markdown",
      "source": [
        "#1.Initializing a Tensor\n"
      ],
      "metadata": {
        "id": "-fbLqyZ1GMOa"
      }
    },
    {
      "cell_type": "code",
      "execution_count": null,
      "metadata": {
        "id": "jO2k5xAKFMbI"
      },
      "outputs": [],
      "source": [
        "import numpy as np\n",
        "import torch"
      ]
    },
    {
      "cell_type": "markdown",
      "source": [
        "## Directly form data"
      ],
      "metadata": {
        "id": "DfLzOEYnGXSW"
      }
    },
    {
      "cell_type": "code",
      "source": [
        "data = [\n",
        "    [1, 2], [3, 4], [5, 6]\n",
        "]\n",
        "data   #python list"
      ],
      "metadata": {
        "colab": {
          "base_uri": "https://localhost:8080/"
        },
        "id": "bba6L7_dGVOG",
        "outputId": "abab2ad8-2767-4a26-a895-03d876d6d069"
      },
      "execution_count": null,
      "outputs": [
        {
          "output_type": "execute_result",
          "data": {
            "text/plain": [
              "[[1, 2], [3, 4], [5, 6]]"
            ]
          },
          "metadata": {},
          "execution_count": 3
        }
      ]
    },
    {
      "cell_type": "code",
      "source": [
        "data_tensor = torch.tensor(data)  #list -> tensor\n",
        "data_tensor"
      ],
      "metadata": {
        "colab": {
          "base_uri": "https://localhost:8080/"
        },
        "id": "SqrKTsLrGwQx",
        "outputId": "421e5970-e20d-4536-961a-41c6f8bf07ff"
      },
      "execution_count": null,
      "outputs": [
        {
          "output_type": "execute_result",
          "data": {
            "text/plain": [
              "tensor([[1, 2],\n",
              "        [3, 4],\n",
              "        [5, 6]])"
            ]
          },
          "metadata": {},
          "execution_count": 4
        }
      ]
    },
    {
      "cell_type": "markdown",
      "source": [
        "## From a Numpy array"
      ],
      "metadata": {
        "id": "I0Td-9h9HQ-R"
      }
    },
    {
      "cell_type": "code",
      "source": [
        "arr = np.array(data)    #array\n",
        "arr"
      ],
      "metadata": {
        "colab": {
          "base_uri": "https://localhost:8080/"
        },
        "id": "M0O-2CuNHIBH",
        "outputId": "123a1ae1-6edf-475b-c578-860132e56a35"
      },
      "execution_count": null,
      "outputs": [
        {
          "output_type": "execute_result",
          "data": {
            "text/plain": [
              "array([[1, 2],\n",
              "       [3, 4],\n",
              "       [5, 6]])"
            ]
          },
          "metadata": {},
          "execution_count": 5
        }
      ]
    },
    {
      "cell_type": "code",
      "source": [
        "arr = np.array(data)    \n",
        "arr_tensor = torch.tensor(arr)   #array -> tensor\n",
        "\n",
        "print(f'Numpy arr value: \\n {arr} \\n')\n",
        "print(f'Tensor arr_tensor value: \\n {arr_tensor} \\n')"
      ],
      "metadata": {
        "colab": {
          "base_uri": "https://localhost:8080/"
        },
        "id": "VWlmxZnoHXwr",
        "outputId": "51ee7bcf-dc3e-4453-f8e5-89fe57e52194"
      },
      "execution_count": null,
      "outputs": [
        {
          "output_type": "stream",
          "name": "stdout",
          "text": [
            "Numpy arr value: \n",
            " [[1 2]\n",
            " [3 4]\n",
            " [5 6]] \n",
            "\n",
            "Tensor arr_tensor value: \n",
            " tensor([[1, 2],\n",
            "        [3, 4],\n",
            "        [5, 6]]) \n",
            "\n"
          ]
        }
      ]
    },
    {
      "cell_type": "code",
      "source": [
        "np.multiply(arr,2,out=arr)\n",
        "\n",
        "print(f'Numpy arr after * 2 operation : \\n {arr} \\n')\n",
        "print(f'Tensor arr_tensor value after modifying numpy array: \\n {arr} \\n') "
      ],
      "metadata": {
        "colab": {
          "base_uri": "https://localhost:8080/"
        },
        "id": "T2ydDEAUH83K",
        "outputId": "554afcd2-d881-47e7-bea8-6cc57b5c924e"
      },
      "execution_count": null,
      "outputs": [
        {
          "output_type": "stream",
          "name": "stdout",
          "text": [
            "Numpy arr after * 2 operation : \n",
            " [[ 2  4]\n",
            " [ 6  8]\n",
            " [10 12]] \n",
            "\n",
            "Tensor arr_tensor value after modifying numpy array: \n",
            " [[ 2  4]\n",
            " [ 6  8]\n",
            " [10 12]] \n",
            "\n"
          ]
        }
      ]
    },
    {
      "cell_type": "markdown",
      "source": [
        "torch.from_numpy() -> 얕은 복사"
      ],
      "metadata": {
        "id": "yPYlNUeoIgxh"
      }
    },
    {
      "cell_type": "markdown",
      "source": [
        "## From another tensor"
      ],
      "metadata": {
        "id": "KGhsI54DIvch"
      }
    },
    {
      "cell_type": "code",
      "source": [
        "x_ones = torch.ones_like(data_tensor)   #shape은 그대로 유지하고 값만 1로 \n",
        "x_ones \n"
      ],
      "metadata": {
        "colab": {
          "base_uri": "https://localhost:8080/"
        },
        "id": "51wBtn-qIf2o",
        "outputId": "d370404c-a8b7-4e6f-876d-fd2e2aefcb92"
      },
      "execution_count": null,
      "outputs": [
        {
          "output_type": "execute_result",
          "data": {
            "text/plain": [
              "tensor([[1, 1],\n",
              "        [1, 1],\n",
              "        [1, 1]])"
            ]
          },
          "metadata": {},
          "execution_count": 8
        }
      ]
    },
    {
      "cell_type": "code",
      "source": [
        "x_rand = torch.rand_like(data_tensor, dtype = torch.float)  #shape은 그대로 유지하고 값만 랜덤으로\n",
        "x_rand"
      ],
      "metadata": {
        "colab": {
          "base_uri": "https://localhost:8080/"
        },
        "id": "i7labW6nI7xC",
        "outputId": "f5a66a1b-037b-4b9b-ffdd-405d4c750513"
      },
      "execution_count": null,
      "outputs": [
        {
          "output_type": "execute_result",
          "data": {
            "text/plain": [
              "tensor([[0.4126, 0.6691],\n",
              "        [0.6921, 0.8144],\n",
              "        [0.8315, 0.1422]])"
            ]
          },
          "metadata": {},
          "execution_count": 9
        }
      ]
    },
    {
      "cell_type": "markdown",
      "source": [
        "## With random or constant values"
      ],
      "metadata": {
        "id": "gy5lYGWFJrWb"
      }
    },
    {
      "cell_type": "code",
      "source": [
        "shape = (2,3,)\n",
        "rand_tensor = torch.rand(shape)\n",
        "ones_tensor = torch.ones(shape)\n",
        "zeros_tensor = torch.zeros(shape)\n",
        "\n",
        "print(f\"Random Tensor: \\n {rand_tensor} \\n\")\n",
        "print(f\"Ones Tensor: \\n {ones_tensor} \\n\")\n",
        "print(f\"Zeros Tensor: \\n {zeros_tensor}\")"
      ],
      "metadata": {
        "colab": {
          "base_uri": "https://localhost:8080/"
        },
        "id": "_J6nLZt_JfRi",
        "outputId": "c7279558-f5fd-4f9b-92ed-6c6c72eab369"
      },
      "execution_count": null,
      "outputs": [
        {
          "output_type": "stream",
          "name": "stdout",
          "text": [
            "Random Tensor: \n",
            " tensor([[0.6891, 0.8338, 0.6761],\n",
            "        [0.7562, 0.7624, 0.6289]]) \n",
            "\n",
            "Ones Tensor: \n",
            " tensor([[1., 1., 1.],\n",
            "        [1., 1., 1.]]) \n",
            "\n",
            "Zeros Tensor: \n",
            " tensor([[0., 0., 0.],\n",
            "        [0., 0., 0.]])\n"
          ]
        }
      ]
    },
    {
      "cell_type": "markdown",
      "source": [
        "# 2.Attributes of a Tensor"
      ],
      "metadata": {
        "id": "KtwwWyP1KzTh"
      }
    },
    {
      "cell_type": "code",
      "source": [
        "tensor = torch.rand(3,4)\n",
        "\n",
        "print(f\"Shape of tensor: {tensor.shape}\")\n",
        "print(f\"Datatype of tensor: {tensor.dtype}\")\n",
        "print(f\"Device tensor is stored on: {tensor.device}\")"
      ],
      "metadata": {
        "colab": {
          "base_uri": "https://localhost:8080/"
        },
        "id": "y5uZs2xjJ44v",
        "outputId": "8b1b139e-d3a9-48c2-ae2b-f28e6726cee4"
      },
      "execution_count": null,
      "outputs": [
        {
          "output_type": "stream",
          "name": "stdout",
          "text": [
            "Shape of tensor: torch.Size([3, 4])\n",
            "Datatype of tensor: torch.float32\n",
            "Device tensor is stored on: cpu\n"
          ]
        }
      ]
    },
    {
      "cell_type": "markdown",
      "source": [
        "# 3.Operations on Tensor"
      ],
      "metadata": {
        "id": "jlpvbUgpLXSx"
      }
    },
    {
      "cell_type": "code",
      "source": [
        "from torch.cuda import is_available\n",
        "\n",
        "# We move our tensor to the GPU if available\n",
        "\n",
        "if torch.cuda.is_available():\n",
        "  tensor = tensor.to('cuda')\n",
        "\n",
        "tensor.device"
      ],
      "metadata": {
        "colab": {
          "base_uri": "https://localhost:8080/"
        },
        "id": "AKuD9DgTLIhQ",
        "outputId": "474eaf87-a5e3-4494-edf1-74fd07eca7e1"
      },
      "execution_count": null,
      "outputs": [
        {
          "output_type": "execute_result",
          "data": {
            "text/plain": [
              "device(type='cuda', index=0)"
            ]
          },
          "metadata": {},
          "execution_count": 13
        }
      ]
    },
    {
      "cell_type": "markdown",
      "source": [
        "## Indexing and Slicing"
      ],
      "metadata": {
        "id": "PmPLL-G7L7HR"
      }
    },
    {
      "cell_type": "code",
      "source": [
        "data = [\n",
        "    [1, 2, 3], [4, 5, 6], [7, 8, 9]\n",
        "]\n",
        "tensor = torch.tensor(data, dtype=torch.float)\n",
        "\n",
        "print(tensor)\n",
        "print('-'*50)\n",
        "\n",
        "print('First row: ',tensor[0])\n",
        "print('Last row: ',tensor[-1])\n",
        "print('First column: ', tensor[:,0])\n",
        "print('Last column1:', tensor[:,-1])\n",
        "print('Last column2:', tensor[...,-1])\n",
        "\n",
        "print('-'*50)\n",
        "tensor[:,1] = 0\n",
        "tensor[1] = 0\n",
        "print(tensor)"
      ],
      "metadata": {
        "colab": {
          "base_uri": "https://localhost:8080/"
        },
        "id": "DgvftYXtLyAD",
        "outputId": "c10e66ec-0b18-4de8-f0a8-9930365475e0"
      },
      "execution_count": null,
      "outputs": [
        {
          "output_type": "stream",
          "name": "stdout",
          "text": [
            "tensor([[1., 2., 3.],\n",
            "        [4., 5., 6.],\n",
            "        [7., 8., 9.]])\n",
            "--------------------------------------------------\n",
            "First row:  tensor([1., 2., 3.])\n",
            "Last row:  tensor([7., 8., 9.])\n",
            "First column:  tensor([1., 4., 7.])\n",
            "Last column1: tensor([3., 6., 9.])\n",
            "Last column2: tensor([3., 6., 9.])\n",
            "--------------------------------------------------\n",
            "tensor([[1., 0., 3.],\n",
            "        [0., 0., 0.],\n",
            "        [7., 0., 9.]])\n"
          ]
        }
      ]
    },
    {
      "cell_type": "markdown",
      "source": [
        "## Joining tensors"
      ],
      "metadata": {
        "id": "zTf_WKOlM3hx"
      }
    },
    {
      "cell_type": "code",
      "source": [
        "t0 = torch.cat([tensor, tensor], dim=0) # 행 방향으로 합치기\n",
        "t0"
      ],
      "metadata": {
        "colab": {
          "base_uri": "https://localhost:8080/"
        },
        "id": "Z2vcSuyIMtG4",
        "outputId": "bdd585a1-0ffc-43ea-9de0-07aba157432f"
      },
      "execution_count": null,
      "outputs": [
        {
          "output_type": "execute_result",
          "data": {
            "text/plain": [
              "tensor([[1., 0., 3.],\n",
              "        [0., 0., 0.],\n",
              "        [7., 0., 9.],\n",
              "        [1., 0., 3.],\n",
              "        [0., 0., 0.],\n",
              "        [7., 0., 9.]])"
            ]
          },
          "metadata": {},
          "execution_count": 19
        }
      ]
    },
    {
      "cell_type": "code",
      "source": [
        "t1 = torch.cat([tensor, tensor], dim=1) # 열 방향으로 합치기\n",
        "t1"
      ],
      "metadata": {
        "colab": {
          "base_uri": "https://localhost:8080/"
        },
        "id": "oQAAOtQ5NCdM",
        "outputId": "88347d5d-27cd-4f59-cb3b-95e3f7d64703"
      },
      "execution_count": null,
      "outputs": [
        {
          "output_type": "execute_result",
          "data": {
            "text/plain": [
              "tensor([[1., 0., 3., 1., 0., 3.],\n",
              "        [0., 0., 0., 0., 0., 0.],\n",
              "        [7., 0., 9., 7., 0., 9.]])"
            ]
          },
          "metadata": {},
          "execution_count": 21
        }
      ]
    },
    {
      "cell_type": "markdown",
      "source": [
        "## Arithmethic Operations"
      ],
      "metadata": {
        "id": "ljMcg8GkNTl5"
      }
    },
    {
      "cell_type": "markdown",
      "source": [
        "### torch.mm\n",
        "\n",
        "performs a matrix multiplication `without broadcasting`\n",
        "\n",
        "\n",
        "\n"
      ],
      "metadata": {
        "id": "epsYGHNWNe7T"
      }
    },
    {
      "cell_type": "code",
      "source": [
        "mat1 = torch.randn(2,3)\n",
        "mat2 = torch.randn(3,3)"
      ],
      "metadata": {
        "id": "vwgTHipfNM-L"
      },
      "execution_count": null,
      "outputs": []
    },
    {
      "cell_type": "code",
      "source": [
        "mat1"
      ],
      "metadata": {
        "colab": {
          "base_uri": "https://localhost:8080/"
        },
        "id": "rFr1ze7WOHwn",
        "outputId": "0aa05805-ac82-47c9-dff0-7b9aca583c7c"
      },
      "execution_count": null,
      "outputs": [
        {
          "output_type": "execute_result",
          "data": {
            "text/plain": [
              "tensor([[ 1.5987,  0.0734, -0.1398],\n",
              "        [-0.6811,  0.6174, -0.2750]])"
            ]
          },
          "metadata": {},
          "execution_count": 24
        }
      ]
    },
    {
      "cell_type": "code",
      "source": [
        "mat2"
      ],
      "metadata": {
        "colab": {
          "base_uri": "https://localhost:8080/"
        },
        "id": "e8O5ohAXOLR2",
        "outputId": "a0b3adcd-997a-4f51-b62a-153fc295768b"
      },
      "execution_count": null,
      "outputs": [
        {
          "output_type": "execute_result",
          "data": {
            "text/plain": [
              "tensor([[ 0.0791,  2.0352,  0.9989],\n",
              "        [-0.8680, -1.1792, -1.3488],\n",
              "        [ 0.3222,  0.6106, -0.5415]])"
            ]
          },
          "metadata": {},
          "execution_count": 25
        }
      ]
    },
    {
      "cell_type": "code",
      "source": [
        "torch.mm(mat1,mat2)"
      ],
      "metadata": {
        "colab": {
          "base_uri": "https://localhost:8080/"
        },
        "id": "iVz7cE1xOMcX",
        "outputId": "2b2a547f-4084-442f-fbb7-058979ffeeec"
      },
      "execution_count": null,
      "outputs": [
        {
          "output_type": "execute_result",
          "data": {
            "text/plain": [
              "tensor([[ 0.0177,  3.0816,  1.5735],\n",
              "        [-0.6784, -2.2821, -1.3642]])"
            ]
          },
          "metadata": {},
          "execution_count": 26
        }
      ]
    },
    {
      "cell_type": "code",
      "source": [
        "torch.mm(mat2,mat1)  #broadcasting이 적용되지 않아서 오류 발생"
      ],
      "metadata": {
        "id": "Zb-Izct4OSPY"
      },
      "execution_count": null,
      "outputs": []
    },
    {
      "cell_type": "markdown",
      "source": [
        "### torch.mul\n",
        "performs a elementwise multiplication `with broadcasting` (Tensor) by (Tensor or Number)"
      ],
      "metadata": {
        "id": "eYJt4DenOjEp"
      }
    },
    {
      "cell_type": "code",
      "source": [
        "a = torch.randn(3)  # vector\n",
        "a"
      ],
      "metadata": {
        "colab": {
          "base_uri": "https://localhost:8080/"
        },
        "id": "thViz6JeOYiD",
        "outputId": "364935e5-64b3-4ae7-98b2-acbee69d523d"
      },
      "execution_count": null,
      "outputs": [
        {
          "output_type": "execute_result",
          "data": {
            "text/plain": [
              "tensor([-0.8767,  0.5854,  0.0723])"
            ]
          },
          "metadata": {},
          "execution_count": 29
        }
      ]
    },
    {
      "cell_type": "code",
      "source": [
        "torch.mul(a,100)"
      ],
      "metadata": {
        "colab": {
          "base_uri": "https://localhost:8080/"
        },
        "id": "Y3dihJ6GQ6vu",
        "outputId": "cc05305c-3ea1-4025-c353-ef7fc3357677"
      },
      "execution_count": null,
      "outputs": [
        {
          "output_type": "execute_result",
          "data": {
            "text/plain": [
              "tensor([-87.6718,  58.5388,   7.2347])"
            ]
          },
          "metadata": {},
          "execution_count": 30
        }
      ]
    },
    {
      "cell_type": "code",
      "source": [
        "b = torch.randn(1,4)\n",
        "b"
      ],
      "metadata": {
        "colab": {
          "base_uri": "https://localhost:8080/"
        },
        "id": "MuChuA2jRCvH",
        "outputId": "aa7cb9bc-4d0d-41ec-cc3a-8a083055cd80"
      },
      "execution_count": null,
      "outputs": [
        {
          "output_type": "execute_result",
          "data": {
            "text/plain": [
              "tensor([[ 0.3322, -0.2339,  1.8751,  0.2751]])"
            ]
          },
          "metadata": {},
          "execution_count": 35
        }
      ]
    },
    {
      "cell_type": "code",
      "source": [
        "c = torch.randn(1,4)\n",
        "c"
      ],
      "metadata": {
        "colab": {
          "base_uri": "https://localhost:8080/"
        },
        "id": "NgPWdhpfRHgu",
        "outputId": "ab218d13-14a0-4c8a-9a8d-5376b7b1faea"
      },
      "execution_count": null,
      "outputs": [
        {
          "output_type": "execute_result",
          "data": {
            "text/plain": [
              "tensor([[ 1.4303, -0.4398,  0.4229, -0.0160]])"
            ]
          },
          "metadata": {},
          "execution_count": 36
        }
      ]
    },
    {
      "cell_type": "code",
      "source": [
        "torch.mul(b,c)"
      ],
      "metadata": {
        "colab": {
          "base_uri": "https://localhost:8080/"
        },
        "id": "qtIJ6FUaRRRl",
        "outputId": "c5df4c92-0b4c-4f06-ca29-ab96a54fd5d0"
      },
      "execution_count": null,
      "outputs": [
        {
          "output_type": "execute_result",
          "data": {
            "text/plain": [
              "tensor([[ 0.4752,  0.1029,  0.7929, -0.0044]])"
            ]
          },
          "metadata": {},
          "execution_count": 37
        }
      ]
    },
    {
      "cell_type": "code",
      "source": [
        "torch.mm(b,c)"
      ],
      "metadata": {
        "id": "8BsmGujFRUrk"
      },
      "execution_count": null,
      "outputs": []
    },
    {
      "cell_type": "markdown",
      "source": [
        "mm와 mul의 차이는 broadcasting이 되는가? 안되는가?"
      ],
      "metadata": {
        "id": "EM0szRpsRy8K"
      }
    },
    {
      "cell_type": "markdown",
      "source": [
        "###torch.matmul\n",
        "matrix product `with broadcasting`\n",
        "- 내적계산 \n"
      ],
      "metadata": {
        "id": "UOd0z9YGR7qE"
      }
    },
    {
      "cell_type": "code",
      "source": [
        "# vector * vector\n",
        "tensor1 = torch.randn(3)\n",
        "tensor2 = torch.randn(3)\n",
        "torch.matmul(tensor1, tensor2)  #벡터끼리 곱은 스칼라로 "
      ],
      "metadata": {
        "colab": {
          "base_uri": "https://localhost:8080/"
        },
        "id": "f7lscACvRvjL",
        "outputId": "ae348844-b5a4-4d75-dd62-63cacbfaf997"
      },
      "execution_count": null,
      "outputs": [
        {
          "output_type": "execute_result",
          "data": {
            "text/plain": [
              "tensor(-1.1684)"
            ]
          },
          "metadata": {},
          "execution_count": 41
        }
      ]
    },
    {
      "cell_type": "code",
      "source": [
        "torch.matmul(tensor1, tensor2).size()"
      ],
      "metadata": {
        "colab": {
          "base_uri": "https://localhost:8080/"
        },
        "id": "gyjDGvoMSNvL",
        "outputId": "952dadb7-ce68-4dcc-c73a-69284ea6f18e"
      },
      "execution_count": null,
      "outputs": [
        {
          "output_type": "execute_result",
          "data": {
            "text/plain": [
              "torch.Size([])"
            ]
          },
          "metadata": {},
          "execution_count": 42
        }
      ]
    },
    {
      "cell_type": "code",
      "source": [
        "torch.mul(tensor1, tensor2)    "
      ],
      "metadata": {
        "colab": {
          "base_uri": "https://localhost:8080/"
        },
        "id": "N5nctDfbSfGi",
        "outputId": "9b802489-10a4-4eba-a3b2-f6983730922f"
      },
      "execution_count": null,
      "outputs": [
        {
          "output_type": "execute_result",
          "data": {
            "text/plain": [
              "tensor([ 0.1283, -0.4288, -0.8678])"
            ]
          },
          "metadata": {},
          "execution_count": 44
        }
      ]
    },
    {
      "cell_type": "code",
      "source": [
        "# matrix x vector\n",
        "tensor1 = torch.randn(3, 4)\n",
        "tensor2 = torch.randn(4)\n",
        "torch.matmul(tensor1, tensor2)"
      ],
      "metadata": {
        "colab": {
          "base_uri": "https://localhost:8080/"
        },
        "id": "BSGXKNOHSYNA",
        "outputId": "345bd23d-3c14-4f16-8c8f-f405fa47a6e9"
      },
      "execution_count": null,
      "outputs": [
        {
          "output_type": "execute_result",
          "data": {
            "text/plain": [
              "tensor([ 0.4110, -0.2937,  3.6377])"
            ]
          },
          "metadata": {},
          "execution_count": 48
        }
      ]
    },
    {
      "cell_type": "code",
      "source": [
        "tensor1 ,tensor2"
      ],
      "metadata": {
        "colab": {
          "base_uri": "https://localhost:8080/"
        },
        "id": "OvmMt2rTS53J",
        "outputId": "de09946e-3f79-45d1-ebb4-446e6c575fdd"
      },
      "execution_count": null,
      "outputs": [
        {
          "output_type": "execute_result",
          "data": {
            "text/plain": [
              "(tensor([[ 1.4614,  0.0480,  0.7553, -0.8300],\n",
              "         [-0.6709,  0.1465, -0.3391, -0.1227],\n",
              "         [ 1.1211, -1.5678, -0.9218, -0.3840]]),\n",
              " tensor([ 0.7832, -1.0789, -1.0883, -0.1689]))"
            ]
          },
          "metadata": {},
          "execution_count": 52
        }
      ]
    },
    {
      "cell_type": "code",
      "source": [
        "torch.matmul(tensor1, tensor2)"
      ],
      "metadata": {
        "colab": {
          "base_uri": "https://localhost:8080/"
        },
        "id": "TTQE6-L5Stoa",
        "outputId": "7f05e6c8-94fb-4350-a7e8-4efdf4ddc497"
      },
      "execution_count": null,
      "outputs": [
        {
          "output_type": "execute_result",
          "data": {
            "text/plain": [
              "tensor([ 0.4110, -0.2937,  3.6377])"
            ]
          },
          "metadata": {},
          "execution_count": 51
        }
      ]
    },
    {
      "cell_type": "code",
      "source": [
        "torch.mul(tensor1, tensor2)"
      ],
      "metadata": {
        "colab": {
          "base_uri": "https://localhost:8080/"
        },
        "id": "UocUc8xVSow3",
        "outputId": "78580717-7675-40bf-ed23-85c0fd14587e"
      },
      "execution_count": null,
      "outputs": [
        {
          "output_type": "execute_result",
          "data": {
            "text/plain": [
              "tensor([[ 1.1446, -0.0518, -0.8220,  0.1402],\n",
              "        [-0.5255, -0.1581,  0.3691,  0.0207],\n",
              "        [ 0.8780,  1.6916,  1.0032,  0.0648]])"
            ]
          },
          "metadata": {},
          "execution_count": 50
        }
      ]
    },
    {
      "cell_type": "code",
      "source": [
        "# batched matrix x broadcasted vector\n",
        "tensor1 = torch.randn(10, 3, 4)\n",
        "tensor2 = torch.randn(4)"
      ],
      "metadata": {
        "id": "h9rEymKhSrbQ"
      },
      "execution_count": null,
      "outputs": []
    },
    {
      "cell_type": "code",
      "source": [
        "tensor1 ,tensor2"
      ],
      "metadata": {
        "colab": {
          "base_uri": "https://localhost:8080/"
        },
        "id": "PKwuj0fATKuh",
        "outputId": "93bd9186-d6a5-49ee-f230-ecdf1f1bab20"
      },
      "execution_count": null,
      "outputs": [
        {
          "output_type": "execute_result",
          "data": {
            "text/plain": [
              "(tensor([[[ 0.6905,  0.5284, -0.3423,  0.2416],\n",
              "          [ 0.0177, -0.1010, -1.6637,  0.5731],\n",
              "          [-0.1772,  0.0628, -1.2163, -0.7322]],\n",
              " \n",
              "         [[ 1.6029, -1.0740,  0.2423, -0.0173],\n",
              "          [ 0.2033,  0.4923, -0.0596,  1.0159],\n",
              "          [ 0.9193, -0.6344, -0.1071,  0.4892]],\n",
              " \n",
              "         [[ 1.9694,  0.5597,  1.4487,  0.1174],\n",
              "          [ 0.5137, -1.5213,  0.2253,  0.0829],\n",
              "          [-0.9639,  0.2176,  1.1066, -0.6055]],\n",
              " \n",
              "         [[ 0.3732,  0.2728, -1.2808, -0.0677],\n",
              "          [-0.2020,  0.0798,  0.4788, -0.9744],\n",
              "          [ 0.3092, -1.1207,  0.7007, -0.0395]],\n",
              " \n",
              "         [[-1.7374,  1.0679, -0.0049,  0.0244],\n",
              "          [ 1.4768,  2.8780,  1.0624, -1.0649],\n",
              "          [-0.1902, -0.6958,  1.7166, -0.4176]],\n",
              " \n",
              "         [[-1.0236,  0.6371,  0.6961,  0.5503],\n",
              "          [ 0.1041,  0.1366,  0.8120, -1.4820],\n",
              "          [-0.4327,  0.0989,  1.0478, -1.8587]],\n",
              " \n",
              "         [[-1.2478, -0.1068, -0.9871, -1.3013],\n",
              "          [ 0.8194, -0.1905,  0.4581,  0.7736],\n",
              "          [-2.3437,  1.5138,  1.3893, -0.1817]],\n",
              " \n",
              "         [[-0.8793, -1.5048,  1.0929, -1.4093],\n",
              "          [-0.9216, -1.1717, -0.1119,  0.4422],\n",
              "          [ 0.7750,  0.7084, -0.2786,  0.1953]],\n",
              " \n",
              "         [[-1.6770,  0.0868, -1.3863,  0.8592],\n",
              "          [ 0.3925, -0.1794, -0.1021, -0.5820],\n",
              "          [-1.0459, -0.0996, -0.7434, -1.0709]],\n",
              " \n",
              "         [[ 0.6805, -0.6145,  1.2583,  0.9102],\n",
              "          [ 1.8748,  0.2829, -1.7731,  0.5984],\n",
              "          [ 0.5121, -0.8154, -0.8277, -0.3583]]]),\n",
              " tensor([-0.4047, -0.5107,  1.5160,  0.6369]))"
            ]
          },
          "metadata": {},
          "execution_count": 55
        }
      ]
    },
    {
      "cell_type": "code",
      "source": [
        "torch.matmul(tensor1, tensor2).shape "
      ],
      "metadata": {
        "colab": {
          "base_uri": "https://localhost:8080/"
        },
        "id": "0s6mkiqwTGpW",
        "outputId": "d3652673-ec07-406d-da39-ea459118a8ed"
      },
      "execution_count": null,
      "outputs": [
        {
          "output_type": "execute_result",
          "data": {
            "text/plain": [
              "torch.Size([10, 3])"
            ]
          },
          "metadata": {},
          "execution_count": 57
        }
      ]
    },
    {
      "cell_type": "code",
      "source": [
        "torch.mul(tensor1, tensor2).shape"
      ],
      "metadata": {
        "colab": {
          "base_uri": "https://localhost:8080/"
        },
        "id": "A69VND8XTnzS",
        "outputId": "60cb4d3a-32d0-4a53-b98f-3ea8bc294763"
      },
      "execution_count": null,
      "outputs": [
        {
          "output_type": "execute_result",
          "data": {
            "text/plain": [
              "torch.Size([10, 3, 4])"
            ]
          },
          "metadata": {},
          "execution_count": 59
        }
      ]
    },
    {
      "cell_type": "code",
      "source": [
        "# batched matrix x batched matrix\n",
        "tensor1 = torch.randn(10, 3, 4)\n",
        "tensor2 = torch.randn(10, 4, 5)\n",
        "torch.matmul(tensor1, tensor2).size()"
      ],
      "metadata": {
        "colab": {
          "base_uri": "https://localhost:8080/"
        },
        "id": "szEIgAR3TQvC",
        "outputId": "88b4c341-f9b3-4a93-b99a-46c40d74ae3b"
      },
      "execution_count": null,
      "outputs": [
        {
          "output_type": "execute_result",
          "data": {
            "text/plain": [
              "torch.Size([10, 3, 5])"
            ]
          },
          "metadata": {},
          "execution_count": 60
        }
      ]
    },
    {
      "cell_type": "code",
      "source": [
        "tensor1 = torch.randn(10, 3, 4)\n",
        "tensor2 = torch.randn(10, 4, 5)\n",
        "torch.mul(tensor1, tensor2).size()"
      ],
      "metadata": {
        "colab": {
          "base_uri": "https://localhost:8080/",
          "height": 227
        },
        "id": "eI7ahtZAT2Lo",
        "outputId": "a81184de-6452-4e58-f935-5d76ed6d8cdf"
      },
      "execution_count": null,
      "outputs": [
        {
          "output_type": "error",
          "ename": "RuntimeError",
          "evalue": "ignored",
          "traceback": [
            "\u001b[0;31m---------------------------------------------------------------------------\u001b[0m",
            "\u001b[0;31mRuntimeError\u001b[0m                              Traceback (most recent call last)",
            "\u001b[0;32m<ipython-input-61-30c8e3c2600e>\u001b[0m in \u001b[0;36m<cell line: 3>\u001b[0;34m()\u001b[0m\n\u001b[1;32m      1\u001b[0m \u001b[0mtensor1\u001b[0m \u001b[0;34m=\u001b[0m \u001b[0mtorch\u001b[0m\u001b[0;34m.\u001b[0m\u001b[0mrandn\u001b[0m\u001b[0;34m(\u001b[0m\u001b[0;36m10\u001b[0m\u001b[0;34m,\u001b[0m \u001b[0;36m3\u001b[0m\u001b[0;34m,\u001b[0m \u001b[0;36m4\u001b[0m\u001b[0;34m)\u001b[0m\u001b[0;34m\u001b[0m\u001b[0;34m\u001b[0m\u001b[0m\n\u001b[1;32m      2\u001b[0m \u001b[0mtensor2\u001b[0m \u001b[0;34m=\u001b[0m \u001b[0mtorch\u001b[0m\u001b[0;34m.\u001b[0m\u001b[0mrandn\u001b[0m\u001b[0;34m(\u001b[0m\u001b[0;36m10\u001b[0m\u001b[0;34m,\u001b[0m \u001b[0;36m4\u001b[0m\u001b[0;34m,\u001b[0m \u001b[0;36m5\u001b[0m\u001b[0;34m)\u001b[0m\u001b[0;34m\u001b[0m\u001b[0;34m\u001b[0m\u001b[0m\n\u001b[0;32m----> 3\u001b[0;31m \u001b[0mtorch\u001b[0m\u001b[0;34m.\u001b[0m\u001b[0mmul\u001b[0m\u001b[0;34m(\u001b[0m\u001b[0mtensor1\u001b[0m\u001b[0;34m,\u001b[0m \u001b[0mtensor2\u001b[0m\u001b[0;34m)\u001b[0m\u001b[0;34m.\u001b[0m\u001b[0msize\u001b[0m\u001b[0;34m(\u001b[0m\u001b[0;34m)\u001b[0m\u001b[0;34m\u001b[0m\u001b[0;34m\u001b[0m\u001b[0m\n\u001b[0m",
            "\u001b[0;31mRuntimeError\u001b[0m: The size of tensor a (4) must match the size of tensor b (5) at non-singleton dimension 2"
          ]
        }
      ]
    },
    {
      "cell_type": "code",
      "source": [
        "# batched matrix x broadcasted matrix\n",
        "tensor1 = torch.randn(10, 3, 4)\n",
        "tensor2 = torch.randn(4, 5)\n",
        "torch.matmul(tensor1, tensor2).size()"
      ],
      "metadata": {
        "colab": {
          "base_uri": "https://localhost:8080/"
        },
        "id": "yrJShicET5db",
        "outputId": "474103e4-70dc-4504-c736-e49454878e5b"
      },
      "execution_count": null,
      "outputs": [
        {
          "output_type": "execute_result",
          "data": {
            "text/plain": [
              "torch.Size([10, 3, 5])"
            ]
          },
          "metadata": {},
          "execution_count": 62
        }
      ]
    },
    {
      "cell_type": "code",
      "source": [
        "torch.mul(tensor1, tensor2).size()"
      ],
      "metadata": {
        "colab": {
          "base_uri": "https://localhost:8080/",
          "height": 190
        },
        "id": "pZeUOVa_UWjx",
        "outputId": "e1c575f3-9277-454f-946e-e446189d8a02"
      },
      "execution_count": null,
      "outputs": [
        {
          "output_type": "error",
          "ename": "RuntimeError",
          "evalue": "ignored",
          "traceback": [
            "\u001b[0;31m---------------------------------------------------------------------------\u001b[0m",
            "\u001b[0;31mRuntimeError\u001b[0m                              Traceback (most recent call last)",
            "\u001b[0;32m<ipython-input-63-2118c3541e28>\u001b[0m in \u001b[0;36m<cell line: 1>\u001b[0;34m()\u001b[0m\n\u001b[0;32m----> 1\u001b[0;31m \u001b[0mtorch\u001b[0m\u001b[0;34m.\u001b[0m\u001b[0mmul\u001b[0m\u001b[0;34m(\u001b[0m\u001b[0mtensor1\u001b[0m\u001b[0;34m,\u001b[0m \u001b[0mtensor2\u001b[0m\u001b[0;34m)\u001b[0m\u001b[0;34m.\u001b[0m\u001b[0msize\u001b[0m\u001b[0;34m(\u001b[0m\u001b[0;34m)\u001b[0m\u001b[0;34m\u001b[0m\u001b[0;34m\u001b[0m\u001b[0m\n\u001b[0m",
            "\u001b[0;31mRuntimeError\u001b[0m: The size of tensor a (4) must match the size of tensor b (5) at non-singleton dimension 2"
          ]
        }
      ]
    },
    {
      "cell_type": "markdown",
      "source": [
        "### Single-element tensors "
      ],
      "metadata": {
        "id": "i6L7nm3AUuib"
      }
    },
    {
      "cell_type": "code",
      "source": [
        "tensor2"
      ],
      "metadata": {
        "colab": {
          "base_uri": "https://localhost:8080/"
        },
        "id": "V1-5WdP_UbLU",
        "outputId": "3da8b79f-baf0-4956-eb40-93a8f0335a8a"
      },
      "execution_count": null,
      "outputs": [
        {
          "output_type": "execute_result",
          "data": {
            "text/plain": [
              "tensor([[-0.4147, -1.5279,  0.6322,  0.4738, -0.5325],\n",
              "        [ 0.7008,  0.8237,  0.5067,  1.3550,  0.8410],\n",
              "        [-1.6480, -2.6051,  1.6421, -0.5680,  0.3758],\n",
              "        [-0.0322, -1.2382, -0.7474, -0.3684,  0.7995]])"
            ]
          },
          "metadata": {},
          "execution_count": 64
        }
      ]
    },
    {
      "cell_type": "code",
      "source": [
        "agg = tensor2.sum()\n",
        "agg "
      ],
      "metadata": {
        "colab": {
          "base_uri": "https://localhost:8080/"
        },
        "id": "tvfbQ2xHU2So",
        "outputId": "e75b1f96-807f-4137-d943-cc99f27e07c3"
      },
      "execution_count": null,
      "outputs": [
        {
          "output_type": "execute_result",
          "data": {
            "text/plain": [
              "tensor(-1.5321)"
            ]
          },
          "metadata": {},
          "execution_count": 66
        }
      ]
    },
    {
      "cell_type": "code",
      "source": [
        "agg_item = agg.item()   #python 연산을 하기 위해서 .item()\n",
        "print(agg_item, type(agg_item))"
      ],
      "metadata": {
        "colab": {
          "base_uri": "https://localhost:8080/"
        },
        "id": "Stm93q6EU5iC",
        "outputId": "7ec31a93-45f4-4395-9cb0-df9357ada33d"
      },
      "execution_count": null,
      "outputs": [
        {
          "output_type": "stream",
          "name": "stdout",
          "text": [
            "-1.5321239233016968 <class 'float'>\n"
          ]
        }
      ]
    },
    {
      "cell_type": "markdown",
      "source": [
        "### In-place operations"
      ],
      "metadata": {
        "id": "dnIHm6aRVu9i"
      }
    },
    {
      "cell_type": "code",
      "source": [
        "print(tensor2, \"\\n\")\n",
        "print(f\"{tensor2.add(5)}\\n\")\n",
        "print('-'*50)\n",
        "print(tensor2, \"\\n\")\n",
        "tensor2.add_(5) # inplace\n",
        "print(tensor2)"
      ],
      "metadata": {
        "colab": {
          "base_uri": "https://localhost:8080/"
        },
        "id": "5HllHVpbVLM5",
        "outputId": "5e528817-71cc-40f8-97e2-849be495b1c9"
      },
      "execution_count": null,
      "outputs": [
        {
          "output_type": "stream",
          "name": "stdout",
          "text": [
            "tensor([[-0.4147, -1.5279,  0.6322,  0.4738, -0.5325],\n",
            "        [ 0.7008,  0.8237,  0.5067,  1.3550,  0.8410],\n",
            "        [-1.6480, -2.6051,  1.6421, -0.5680,  0.3758],\n",
            "        [-0.0322, -1.2382, -0.7474, -0.3684,  0.7995]]) \n",
            "\n",
            "tensor([[4.5853, 3.4721, 5.6322, 5.4738, 4.4675],\n",
            "        [5.7008, 5.8237, 5.5067, 6.3550, 5.8410],\n",
            "        [3.3520, 2.3949, 6.6421, 4.4320, 5.3758],\n",
            "        [4.9678, 3.7618, 4.2526, 4.6316, 5.7995]])\n",
            "\n",
            "--------------------------------------------------\n",
            "tensor([[-0.4147, -1.5279,  0.6322,  0.4738, -0.5325],\n",
            "        [ 0.7008,  0.8237,  0.5067,  1.3550,  0.8410],\n",
            "        [-1.6480, -2.6051,  1.6421, -0.5680,  0.3758],\n",
            "        [-0.0322, -1.2382, -0.7474, -0.3684,  0.7995]]) \n",
            "\n",
            "tensor([[4.5853, 3.4721, 5.6322, 5.4738, 4.4675],\n",
            "        [5.7008, 5.8237, 5.5067, 6.3550, 5.8410],\n",
            "        [3.3520, 2.3949, 6.6421, 4.4320, 5.3758],\n",
            "        [4.9678, 3.7618, 4.2526, 4.6316, 5.7995]])\n"
          ]
        }
      ]
    },
    {
      "cell_type": "markdown",
      "source": [
        "# 4.Bridge with Numpy"
      ],
      "metadata": {
        "id": "LmU_epm1WKq7"
      }
    },
    {
      "cell_type": "markdown",
      "source": [
        "## Tensor to Numpy array"
      ],
      "metadata": {
        "id": "dAK_FBqcWRWC"
      }
    },
    {
      "cell_type": "code",
      "source": [
        "t = torch.ones(5)\n",
        "print(f't:{t}')\n",
        "\n",
        "n = t.numpy()   #tensor -> numpy\n",
        "print(f'n:{n}')"
      ],
      "metadata": {
        "colab": {
          "base_uri": "https://localhost:8080/"
        },
        "id": "9WelrlM7V9l7",
        "outputId": "ae8fb41d-1130-4c00-bc82-c189d168af50"
      },
      "execution_count": null,
      "outputs": [
        {
          "output_type": "stream",
          "name": "stdout",
          "text": [
            "t:tensor([1., 1., 1., 1., 1.])\n",
            "n:[1. 1. 1. 1. 1.]\n"
          ]
        }
      ]
    },
    {
      "cell_type": "code",
      "source": [
        "t.add_(1)\n",
        "print(f\"t: {t}\")\n",
        "print(f\"n: {n}\")  #.numpy()는 얕은 복사"
      ],
      "metadata": {
        "colab": {
          "base_uri": "https://localhost:8080/"
        },
        "id": "JJ8f-NxhWneB",
        "outputId": "d90fe156-1324-4e21-d39b-c6aa6a20d9b0"
      },
      "execution_count": null,
      "outputs": [
        {
          "output_type": "stream",
          "name": "stdout",
          "text": [
            "t: tensor([3., 3., 3., 3., 3.])\n",
            "n: [3. 3. 3. 3. 3.]\n"
          ]
        }
      ]
    },
    {
      "cell_type": "markdown",
      "source": [
        "## Numpy array to Tensor"
      ],
      "metadata": {
        "id": "8mh8dX4TW5Fq"
      }
    },
    {
      "cell_type": "code",
      "source": [
        "n = np.ones(5)\n",
        "t = torch.from_numpy(n)\n",
        "n,t"
      ],
      "metadata": {
        "colab": {
          "base_uri": "https://localhost:8080/"
        },
        "id": "UYjb6zHsWxGb",
        "outputId": "bef74cb1-51d7-458a-bb4b-f320156efa47"
      },
      "execution_count": null,
      "outputs": [
        {
          "output_type": "execute_result",
          "data": {
            "text/plain": [
              "(array([1., 1., 1., 1., 1.]),\n",
              " tensor([1., 1., 1., 1., 1.], dtype=torch.float64))"
            ]
          },
          "metadata": {},
          "execution_count": 77
        }
      ]
    },
    {
      "cell_type": "code",
      "source": [
        "np.add(n, 1, out=n)\n",
        "print(f\"t: {t}\")\n",
        "print(f\"n: {n}\")"
      ],
      "metadata": {
        "colab": {
          "base_uri": "https://localhost:8080/"
        },
        "id": "3LVLyHAWXIdu",
        "outputId": "77a4b6b9-d937-41b1-decc-eeb28f98fa96"
      },
      "execution_count": null,
      "outputs": [
        {
          "output_type": "stream",
          "name": "stdout",
          "text": [
            "t: tensor([2., 2., 2., 2., 2.], dtype=torch.float64)\n",
            "n: [2. 2. 2. 2. 2.]\n"
          ]
        }
      ]
    },
    {
      "cell_type": "markdown",
      "source": [
        "# 5. Dimension change"
      ],
      "metadata": {
        "id": "8BspgaqCXSvy"
      }
    },
    {
      "cell_type": "markdown",
      "source": [
        "##reshape()\n",
        "- reshape할 때는 데이터의 값은 변하지 않고 shape만 변경\n",
        "- reshape은 데이터의 총 count가 일치해야 한다!"
      ],
      "metadata": {
        "id": "CYICgzFGXujq"
      }
    },
    {
      "cell_type": "code",
      "source": [
        "x = torch.rand(2,3,4)\n",
        "x.shape   #x의 총 count = 2*3*4 = 24"
      ],
      "metadata": {
        "colab": {
          "base_uri": "https://localhost:8080/"
        },
        "id": "MwvHn1I5XNiX",
        "outputId": "20b370fa-599c-45f6-9977-2e09cb9ce94f"
      },
      "execution_count": null,
      "outputs": [
        {
          "output_type": "execute_result",
          "data": {
            "text/plain": [
              "torch.Size([2, 3, 4])"
            ]
          },
          "metadata": {},
          "execution_count": 81
        }
      ]
    },
    {
      "cell_type": "code",
      "source": [
        "x.reshape(2, -1).shape  #(2,12)"
      ],
      "metadata": {
        "colab": {
          "base_uri": "https://localhost:8080/"
        },
        "id": "H0-qCZclX51a",
        "outputId": "50ae1026-03c4-4eca-c079-add4979814f5"
      },
      "execution_count": null,
      "outputs": [
        {
          "output_type": "execute_result",
          "data": {
            "text/plain": [
              "torch.Size([2, 12])"
            ]
          },
          "metadata": {},
          "execution_count": 82
        }
      ]
    },
    {
      "cell_type": "code",
      "source": [
        "x.reshape(-1, 4).shape  #(6,4)"
      ],
      "metadata": {
        "colab": {
          "base_uri": "https://localhost:8080/"
        },
        "id": "8HRXjgcyYZFT",
        "outputId": "d966b6e5-df22-4318-a195-d63dc0c3bada"
      },
      "execution_count": null,
      "outputs": [
        {
          "output_type": "execute_result",
          "data": {
            "text/plain": [
              "torch.Size([6, 4])"
            ]
          },
          "metadata": {},
          "execution_count": 83
        }
      ]
    },
    {
      "cell_type": "markdown",
      "source": [
        "## permute()\n",
        "- 인덱스를 기준으로 위치만 변경"
      ],
      "metadata": {
        "id": "zmNfdJ12YicS"
      }
    },
    {
      "cell_type": "code",
      "source": [
        "x = torch.rand(16, 32, 3)\n",
        "x.shape"
      ],
      "metadata": {
        "colab": {
          "base_uri": "https://localhost:8080/"
        },
        "id": "eUfTJwJ6Yeix",
        "outputId": "dc5b1f77-b6a0-4212-a00d-c86c01b62e42"
      },
      "execution_count": null,
      "outputs": [
        {
          "output_type": "execute_result",
          "data": {
            "text/plain": [
              "torch.Size([16, 32, 3])"
            ]
          },
          "metadata": {},
          "execution_count": 84
        }
      ]
    },
    {
      "cell_type": "code",
      "source": [
        "x.permute(2,1,0).shape"
      ],
      "metadata": {
        "colab": {
          "base_uri": "https://localhost:8080/"
        },
        "id": "6H5yByCoYqt3",
        "outputId": "f9e90d56-f5a5-47bc-9175-41b7b22c79a1"
      },
      "execution_count": null,
      "outputs": [
        {
          "output_type": "execute_result",
          "data": {
            "text/plain": [
              "torch.Size([3, 32, 16])"
            ]
          },
          "metadata": {},
          "execution_count": 87
        }
      ]
    },
    {
      "cell_type": "markdown",
      "source": [
        "## squeeze()\n",
        "- 차원이 1인 차원을 제거해준다. 따로 차원을 설정하지 않으면 1인 차원을 모두 제거한다."
      ],
      "metadata": {
        "id": "1gpN_3PrY2a0"
      }
    },
    {
      "cell_type": "code",
      "source": [
        "x = torch.rand(1, 3, 1, 20, 1)\n",
        "x.shape"
      ],
      "metadata": {
        "colab": {
          "base_uri": "https://localhost:8080/"
        },
        "id": "o2boVRllYwVl",
        "outputId": "4bd33d3c-e542-41f0-89f3-4b4b6907f011"
      },
      "execution_count": null,
      "outputs": [
        {
          "output_type": "execute_result",
          "data": {
            "text/plain": [
              "torch.Size([1, 3, 1, 20, 1])"
            ]
          },
          "metadata": {},
          "execution_count": 88
        }
      ]
    },
    {
      "cell_type": "code",
      "source": [
        "x.squeeze().shape"
      ],
      "metadata": {
        "colab": {
          "base_uri": "https://localhost:8080/"
        },
        "id": "v5A3qJLbZHqG",
        "outputId": "160c10bf-6aa7-4d12-af06-87f248af4a93"
      },
      "execution_count": null,
      "outputs": [
        {
          "output_type": "execute_result",
          "data": {
            "text/plain": [
              "torch.Size([3, 20])"
            ]
          },
          "metadata": {},
          "execution_count": 90
        }
      ]
    },
    {
      "cell_type": "code",
      "source": [
        "x.squeeze(dim=0).shape   #dim : 차원의 index값"
      ],
      "metadata": {
        "colab": {
          "base_uri": "https://localhost:8080/"
        },
        "id": "03cBSENtZKTj",
        "outputId": "215e098f-1df9-4050-ca4f-9de711f70f3a"
      },
      "execution_count": null,
      "outputs": [
        {
          "output_type": "execute_result",
          "data": {
            "text/plain": [
              "torch.Size([3, 1, 20, 1])"
            ]
          },
          "metadata": {},
          "execution_count": 93
        }
      ]
    },
    {
      "cell_type": "code",
      "source": [
        "x.squeeze(dim=1).shape    #지정한 차원의 값이 1이 아닌 경우에는 변화X"
      ],
      "metadata": {
        "colab": {
          "base_uri": "https://localhost:8080/"
        },
        "id": "IqfE_hjQZO0j",
        "outputId": "1aa58a3d-726a-4bb9-bb8d-d3a428bb7022"
      },
      "execution_count": null,
      "outputs": [
        {
          "output_type": "execute_result",
          "data": {
            "text/plain": [
              "torch.Size([1, 3, 1, 20, 1])"
            ]
          },
          "metadata": {},
          "execution_count": 94
        }
      ]
    },
    {
      "cell_type": "markdown",
      "source": [
        "## unsqueeze()\n",
        "- squeeze()의 반대로 1인 차원을 생성하는 함수이다. <br>그래서 어느 차원에 1인 차원을 생성할지 꼭 지정해주어야 한다.\n",
        "\n"
      ],
      "metadata": {
        "id": "v9qJXZI5Zjxy"
      }
    },
    {
      "cell_type": "code",
      "source": [
        "x = torch.rand(3, 20, 128)\n",
        "x.shape"
      ],
      "metadata": {
        "colab": {
          "base_uri": "https://localhost:8080/"
        },
        "id": "4y4TO1Y0ZZ2C",
        "outputId": "1ab3172c-b2af-482a-90ef-69ca5bd2cb96"
      },
      "execution_count": null,
      "outputs": [
        {
          "output_type": "execute_result",
          "data": {
            "text/plain": [
              "torch.Size([3, 20, 128])"
            ]
          },
          "metadata": {},
          "execution_count": 95
        }
      ]
    },
    {
      "cell_type": "markdown",
      "source": [],
      "metadata": {
        "id": "-AM0pon3Z0Lq"
      }
    },
    {
      "cell_type": "code",
      "source": [
        "x.unsqueeze(dim=1).shape"
      ],
      "metadata": {
        "colab": {
          "base_uri": "https://localhost:8080/"
        },
        "id": "D0Pwfyy4ZtCX",
        "outputId": "05a3c09e-d742-43f6-950e-bbaf078d5691"
      },
      "execution_count": null,
      "outputs": [
        {
          "output_type": "execute_result",
          "data": {
            "text/plain": [
              "torch.Size([3, 1, 20, 128])"
            ]
          },
          "metadata": {},
          "execution_count": 97
        }
      ]
    },
    {
      "cell_type": "code",
      "source": [],
      "metadata": {
        "id": "-tOP97acZyb1"
      },
      "execution_count": null,
      "outputs": []
    }
  ]
}